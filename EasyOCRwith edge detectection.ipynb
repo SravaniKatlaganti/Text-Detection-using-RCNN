{
  "nbformat": 4,
  "nbformat_minor": 0,
  "metadata": {
    "colab": {
      "provenance": []
    },
    "kernelspec": {
      "name": "python3",
      "display_name": "Python 3"
    },
    "language_info": {
      "name": "python"
    }
  },
  "cells": [
    {
      "cell_type": "code",
      "source": [
        "!sudo apt install tesseract-ocr\n",
        "!pip install pytesseract==0.3.9"
      ],
      "metadata": {
        "colab": {
          "base_uri": "https://localhost:8080/",
          "height": 463
        },
        "id": "cEjr1jL88SxH",
        "outputId": "e28fa1b4-5019-48bc-b246-98ab430d4fe8"
      },
      "execution_count": 15,
      "outputs": [
        {
          "output_type": "stream",
          "name": "stdout",
          "text": [
            "Reading package lists... Done\n",
            "Building dependency tree       \n",
            "Reading state information... Done\n",
            "tesseract-ocr is already the newest version (4.00~git2288-10f4998a-2).\n",
            "The following package was automatically installed and is no longer required:\n",
            "  libnvidia-common-460\n",
            "Use 'sudo apt autoremove' to remove it.\n",
            "0 upgraded, 0 newly installed, 0 to remove and 5 not upgraded.\n",
            "Looking in indexes: https://pypi.org/simple, https://us-python.pkg.dev/colab-wheels/public/simple/\n",
            "Collecting pytesseract==0.3.9\n",
            "  Downloading pytesseract-0.3.9-py2.py3-none-any.whl (14 kB)\n",
            "Requirement already satisfied: Pillow>=8.0.0 in /usr/local/lib/python3.8/dist-packages (from pytesseract==0.3.9) (9.3.0)\n",
            "Requirement already satisfied: packaging>=21.3 in /usr/local/lib/python3.8/dist-packages (from pytesseract==0.3.9) (21.3)\n",
            "Requirement already satisfied: pyparsing!=3.0.5,>=2.0.2 in /usr/local/lib/python3.8/dist-packages (from packaging>=21.3->pytesseract==0.3.9) (3.0.9)\n",
            "Installing collected packages: pytesseract\n",
            "  Attempting uninstall: pytesseract\n",
            "    Found existing installation: pytesseract 0.3.10\n",
            "    Uninstalling pytesseract-0.3.10:\n",
            "      Successfully uninstalled pytesseract-0.3.10\n",
            "Successfully installed pytesseract-0.3.9\n"
          ]
        },
        {
          "output_type": "display_data",
          "data": {
            "application/vnd.colab-display-data+json": {
              "pip_warning": {
                "packages": [
                  "pytesseract"
                ]
              }
            }
          },
          "metadata": {}
        }
      ]
    },
    {
      "cell_type": "code",
      "source": [
        "!sudo apt-get install qt5-default"
      ],
      "metadata": {
        "colab": {
          "base_uri": "https://localhost:8080/"
        },
        "id": "SuazsP_YU3LV",
        "outputId": "3755f280-cdcc-46bb-f2aa-dd7a0dfa4ad8"
      },
      "execution_count": 16,
      "outputs": [
        {
          "output_type": "stream",
          "name": "stdout",
          "text": [
            "Reading package lists... Done\n",
            "Building dependency tree       \n",
            "Reading state information... Done\n",
            "qt5-default is already the newest version (5.9.5+dfsg-0ubuntu2.6).\n",
            "The following package was automatically installed and is no longer required:\n",
            "  libnvidia-common-460\n",
            "Use 'sudo apt autoremove' to remove it.\n",
            "0 upgraded, 0 newly installed, 0 to remove and 5 not upgraded.\n"
          ]
        }
      ]
    },
    {
      "cell_type": "code",
      "source": [
        "import cv2\n",
        "import os\n",
        "import sys\n",
        "import pytesseract\n",
        "import numpy as np\n",
        "from PIL import Image\n",
        "from pytesseract import pytesseract\n",
        "from google.colab.patches import cv2_imshow"
      ],
      "metadata": {
        "id": "Ybd1r3IJ8XuQ"
      },
      "execution_count": 3,
      "outputs": []
    },
    {
      "cell_type": "code",
      "execution_count": 10,
      "metadata": {
        "id": "15jnx54fTX3L"
      },
      "outputs": [],
      "source": [
        "\n",
        "path_for_dataSet = os.path.join(os.getcwd(), 'ImageDataset')\n",
        "# images_array = os.listdir(path_for_dataSet)\n",
        "# if(not os.path.isdir('output')):\n",
        "#     os.mkdir('output')\n",
        "path_for_output = os.path.join(os.getcwd(), 'Output')"
      ]
    },
    {
      "cell_type": "code",
      "source": [
        "\n",
        "def image_read(imagePath):\n",
        "    image = cv2.imread(imagePath)\n",
        "    return image\n",
        "\n",
        "def convertImg2Grayscale(img):\n",
        "    return cv2.cvtColor(img, cv2.COLOR_BGR2GRAY)\n",
        "\n",
        "def remove_noise(img):\n",
        "    return cv2.bilateralFilter(img, 10, 85, 85)\n",
        "\n",
        "def equalization_histogram(img):\n",
        "    return cv2.equalizeHist(img)\n",
        "\n",
        "def morphological_opening(img, stct_element):\n",
        "    return cv2.morphologyEx(img, cv2.MORPH_OPEN, stct_element, iterations=16)\n",
        "\n",
        "def remove_histogram_equalization(hist_equa_Img, morph_img):\n",
        "    return cv2.subtract(hist_equa_Img, morph_img)\n",
        "\n",
        "def protect_Img(img):\n",
        "    r, protectImage = cv2.threshold(img, 0, 255, cv2.THRESH_OTSU)\n",
        "    return protectImage\n",
        "\n",
        "def edge_detection(image, portal1, portal2):\n",
        "    cany_img = cv2.Canny(image, portal1, portal2)\n",
        "    cany_img = cv2.convertScaleAbs(cany_img)\n",
        "    return cany_img\n",
        "\n",
        "def image_Edge_Dilation(img, strct_element):\n",
        "    return cv2.dilate(img, strct_element, iterations=1)\n",
        "\n",
        "def finding_Contours(img):\n",
        "    counter, image = cv2.findContours(img, cv2.RETR_TREE, cv2.CHAIN_APPROX_NONE)\n",
        "    return counter\n",
        "\n"
      ],
      "metadata": {
        "id": "OOvCgM7v7Bxr"
      },
      "execution_count": 5,
      "outputs": []
    },
    {
      "cell_type": "code",
      "source": [
        "def approx_Contors(contors):\n",
        "    approx_polygn = None\n",
        "    for contor in contors:\n",
        "        contor_perimtr = cv2.arcLength(contor, True)\n",
        "        approx_polygn = cv2.approxPolyDP(contor, 0.05*contor_perimtr, closed=True) #0.06\n",
        "        # Quadrilateral Found\n",
        "        if(len(approx_polygn) == 4): \n",
        "            break\n",
        "    return approx_polygn"
      ],
      "metadata": {
        "id": "Cso_JwKr7NB0"
      },
      "execution_count": 6,
      "outputs": []
    },
    {
      "cell_type": "code",
      "source": [
        "def create_Localized_NumberPlate(img, approx_polygn):\n",
        "    moment =cv2.moments(approx_polygn)\n",
        "    mX=int(moment['m10'] / moment['m00'])\n",
        "    mY=int(moment['m01'] / moment['m00'])\n",
        "    \n",
        "    final_output_img = cv2.drawContours(img, [approx_polygn], -2, (1, 256, 1), 2) # -1 0 255 0 3\n",
        "    \n",
        "    cv2.circle(final_output_img, (mX, mY), 8, (1, 254, 1), -2)  # 7 0 255 0 -1\n",
        "    #cv2.putText(final_output_img, 'Plates center of gravity: ('+str(mX)+', '+str(mY)+')', (54,54), cv2.FONT_HERSHEY_SIMPLEX, 2, (1, 254, 1), 3) # 1 0 255 0 2\n",
        "    \n",
        "    return final_output_img"
      ],
      "metadata": {
        "id": "RQiAxjUh7ntP"
      },
      "execution_count": 7,
      "outputs": []
    },
    {
      "cell_type": "code",
      "source": [
        "def readImageAndReduceNoise(imgPath):\n",
        "  imagePath = os.path.join(path_for_dataSet, '/content/ImageDataset/5.png')\n",
        "  initialImage = image_read(imagePath)\n",
        "\n",
        "  grayscaleImage = convertImg2Grayscale(initialImage)\n",
        "\n",
        "  noiseRemovedImage = remove_noise(grayscaleImage)\n",
        "\n",
        "  histEqImage = equalization_histogram(noiseRemovedImage)\n",
        "\n",
        "  openingStructElem = cv2.getStructuringElement(cv2.MORPH_RECT, (5, 5))\n",
        "\n",
        "  openedImage = morphological_opening(histEqImage, openingStructElem)\n",
        "\n",
        "  subtractedImage = remove_histogram_equalization(histEqImage, openedImage)\n",
        "\n",
        "  threshImage = protect_Img(subtractedImage)\n",
        "\n",
        "  edgeDetectedImage = edge_detection(threshImage, 250, 255)\n",
        "\n",
        "  dilationStructElem = np.ones((3, 3), np.uint8)\n",
        "\n",
        "  dilatedImage = image_Edge_Dilation(edgeDetectedImage, dilationStructElem)\n",
        "\n",
        "  contours = finding_Contours(dilatedImage)\n",
        "  approximatedPolygon = approx_Contors(contours)\n",
        "\n",
        "  finalImage = create_Localized_NumberPlate(initialImage, approximatedPolygon)\n",
        "  return finalImage"
      ],
      "metadata": {
        "id": "tbemuoXY7_oF"
      },
      "execution_count": 37,
      "outputs": []
    },
    {
      "cell_type": "code",
      "source": [
        "outputFileName = '/content/finalImage.png'"
      ],
      "metadata": {
        "id": "SSOwGSzegvQ6"
      },
      "execution_count": 38,
      "outputs": []
    },
    {
      "cell_type": "code",
      "source": [
        "def extractTextFromImage(imgPath):\n",
        "  finalImage = readImageAndReduceNoise(imgPath)\n",
        "  cv2.imwrite(outputFileName,finalImage)\n",
        "\n",
        "  # extracting text from the image using image_to_string() function\n",
        "  text = pytesseract.image_to_string(outputFileName)\n",
        "\n",
        "  # return extracted text\n",
        "  print(text)"
      ],
      "metadata": {
        "id": "rF_TwmrggciB"
      },
      "execution_count": 42,
      "outputs": []
    },
    {
      "cell_type": "code",
      "source": [
        "extractTextFromImage('/content/ImageDataset/5.png')"
      ],
      "metadata": {
        "colab": {
          "base_uri": "https://localhost:8080/"
        },
        "id": "rKhe4_TQ8OWb",
        "outputId": "29c3dc8b-5b30-440e-8626-567a584f56a8"
      },
      "execution_count": 43,
      "outputs": [
        {
          "output_type": "stream",
          "name": "stdout",
          "text": [
            "our privacy metric and the resulting obfuscation approach\n",
            "are based on the following idea noise should be added in a\n",
            "way that the obfuscated user data sequences are likely to\n",
            "have many common patterns this means that for any user\n",
            "and for potential pattern that adversary might obtain for\n",
            "user\n",
            "\n",
            "eo\n",
            "\f\n"
          ]
        }
      ]
    }
  ]
}